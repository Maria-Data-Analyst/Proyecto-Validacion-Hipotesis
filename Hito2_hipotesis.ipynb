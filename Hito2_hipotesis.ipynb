{
  "nbformat": 4,
  "nbformat_minor": 0,
  "metadata": {
    "colab": {
      "provenance": [],
      "authorship_tag": "ABX9TyPVWswfATb/gK4UpMb1tljZ",
      "include_colab_link": true
    },
    "kernelspec": {
      "name": "python3",
      "display_name": "Python 3"
    },
    "language_info": {
      "name": "python"
    }
  },
  "cells": [
    {
      "cell_type": "markdown",
      "metadata": {
        "id": "view-in-github",
        "colab_type": "text"
      },
      "source": [
        "<a href=\"https://colab.research.google.com/github/Maria-Data-Analyst/Proyecto-Validacion-Hipotesis/blob/main/Hito2_hipotesis.ipynb\" target=\"_parent\"><img src=\"https://colab.research.google.com/assets/colab-badge.svg\" alt=\"Open In Colab\"/></a>"
      ]
    },
    {
      "cell_type": "code",
      "execution_count": 1,
      "metadata": {
        "colab": {
          "base_uri": "https://localhost:8080/"
        },
        "collapsed": true,
        "id": "sO24MZzH_nzU",
        "outputId": "7d22adca-6c69-4c1a-c01d-329ae37da7ba"
      },
      "outputs": [
        {
          "output_type": "stream",
          "name": "stdout",
          "text": [
            "Requirement already satisfied: google-cloud-bigquery in /usr/local/lib/python3.10/dist-packages (3.25.0)\n",
            "Requirement already satisfied: pandas in /usr/local/lib/python3.10/dist-packages (2.1.4)\n",
            "Requirement already satisfied: openpyxl in /usr/local/lib/python3.10/dist-packages (3.1.5)\n",
            "Requirement already satisfied: google-api-core!=2.0.*,!=2.1.*,!=2.10.*,!=2.2.*,!=2.3.*,!=2.4.*,!=2.5.*,!=2.6.*,!=2.7.*,!=2.8.*,!=2.9.*,<3.0.0dev,>=1.34.1 in /usr/local/lib/python3.10/dist-packages (from google-api-core[grpc]!=2.0.*,!=2.1.*,!=2.10.*,!=2.2.*,!=2.3.*,!=2.4.*,!=2.5.*,!=2.6.*,!=2.7.*,!=2.8.*,!=2.9.*,<3.0.0dev,>=1.34.1->google-cloud-bigquery) (2.19.2)\n",
            "Requirement already satisfied: google-auth<3.0.0dev,>=2.14.1 in /usr/local/lib/python3.10/dist-packages (from google-cloud-bigquery) (2.27.0)\n",
            "Requirement already satisfied: google-cloud-core<3.0.0dev,>=1.6.0 in /usr/local/lib/python3.10/dist-packages (from google-cloud-bigquery) (2.4.1)\n",
            "Requirement already satisfied: google-resumable-media<3.0dev,>=0.6.0 in /usr/local/lib/python3.10/dist-packages (from google-cloud-bigquery) (2.7.2)\n",
            "Requirement already satisfied: packaging>=20.0.0 in /usr/local/lib/python3.10/dist-packages (from google-cloud-bigquery) (24.1)\n",
            "Requirement already satisfied: python-dateutil<3.0dev,>=2.7.2 in /usr/local/lib/python3.10/dist-packages (from google-cloud-bigquery) (2.8.2)\n",
            "Requirement already satisfied: requests<3.0.0dev,>=2.21.0 in /usr/local/lib/python3.10/dist-packages (from google-cloud-bigquery) (2.32.3)\n",
            "Requirement already satisfied: numpy<2,>=1.22.4 in /usr/local/lib/python3.10/dist-packages (from pandas) (1.26.4)\n",
            "Requirement already satisfied: pytz>=2020.1 in /usr/local/lib/python3.10/dist-packages (from pandas) (2024.1)\n",
            "Requirement already satisfied: tzdata>=2022.1 in /usr/local/lib/python3.10/dist-packages (from pandas) (2024.1)\n",
            "Requirement already satisfied: et-xmlfile in /usr/local/lib/python3.10/dist-packages (from openpyxl) (1.1.0)\n",
            "Requirement already satisfied: googleapis-common-protos<2.0.dev0,>=1.56.2 in /usr/local/lib/python3.10/dist-packages (from google-api-core!=2.0.*,!=2.1.*,!=2.10.*,!=2.2.*,!=2.3.*,!=2.4.*,!=2.5.*,!=2.6.*,!=2.7.*,!=2.8.*,!=2.9.*,<3.0.0dev,>=1.34.1->google-api-core[grpc]!=2.0.*,!=2.1.*,!=2.10.*,!=2.2.*,!=2.3.*,!=2.4.*,!=2.5.*,!=2.6.*,!=2.7.*,!=2.8.*,!=2.9.*,<3.0.0dev,>=1.34.1->google-cloud-bigquery) (1.65.0)\n",
            "Requirement already satisfied: protobuf!=3.20.0,!=3.20.1,!=4.21.0,!=4.21.1,!=4.21.2,!=4.21.3,!=4.21.4,!=4.21.5,<6.0.0.dev0,>=3.19.5 in /usr/local/lib/python3.10/dist-packages (from google-api-core!=2.0.*,!=2.1.*,!=2.10.*,!=2.2.*,!=2.3.*,!=2.4.*,!=2.5.*,!=2.6.*,!=2.7.*,!=2.8.*,!=2.9.*,<3.0.0dev,>=1.34.1->google-api-core[grpc]!=2.0.*,!=2.1.*,!=2.10.*,!=2.2.*,!=2.3.*,!=2.4.*,!=2.5.*,!=2.6.*,!=2.7.*,!=2.8.*,!=2.9.*,<3.0.0dev,>=1.34.1->google-cloud-bigquery) (3.20.3)\n",
            "Requirement already satisfied: proto-plus<2.0.0dev,>=1.22.3 in /usr/local/lib/python3.10/dist-packages (from google-api-core!=2.0.*,!=2.1.*,!=2.10.*,!=2.2.*,!=2.3.*,!=2.4.*,!=2.5.*,!=2.6.*,!=2.7.*,!=2.8.*,!=2.9.*,<3.0.0dev,>=1.34.1->google-api-core[grpc]!=2.0.*,!=2.1.*,!=2.10.*,!=2.2.*,!=2.3.*,!=2.4.*,!=2.5.*,!=2.6.*,!=2.7.*,!=2.8.*,!=2.9.*,<3.0.0dev,>=1.34.1->google-cloud-bigquery) (1.24.0)\n",
            "Requirement already satisfied: grpcio<2.0dev,>=1.33.2 in /usr/local/lib/python3.10/dist-packages (from google-api-core[grpc]!=2.0.*,!=2.1.*,!=2.10.*,!=2.2.*,!=2.3.*,!=2.4.*,!=2.5.*,!=2.6.*,!=2.7.*,!=2.8.*,!=2.9.*,<3.0.0dev,>=1.34.1->google-cloud-bigquery) (1.64.1)\n",
            "Requirement already satisfied: grpcio-status<2.0.dev0,>=1.33.2 in /usr/local/lib/python3.10/dist-packages (from google-api-core[grpc]!=2.0.*,!=2.1.*,!=2.10.*,!=2.2.*,!=2.3.*,!=2.4.*,!=2.5.*,!=2.6.*,!=2.7.*,!=2.8.*,!=2.9.*,<3.0.0dev,>=1.34.1->google-cloud-bigquery) (1.48.2)\n",
            "Requirement already satisfied: cachetools<6.0,>=2.0.0 in /usr/local/lib/python3.10/dist-packages (from google-auth<3.0.0dev,>=2.14.1->google-cloud-bigquery) (5.5.0)\n",
            "Requirement already satisfied: pyasn1-modules>=0.2.1 in /usr/local/lib/python3.10/dist-packages (from google-auth<3.0.0dev,>=2.14.1->google-cloud-bigquery) (0.4.0)\n",
            "Requirement already satisfied: rsa<5,>=3.1.4 in /usr/local/lib/python3.10/dist-packages (from google-auth<3.0.0dev,>=2.14.1->google-cloud-bigquery) (4.9)\n",
            "Requirement already satisfied: google-crc32c<2.0dev,>=1.0 in /usr/local/lib/python3.10/dist-packages (from google-resumable-media<3.0dev,>=0.6.0->google-cloud-bigquery) (1.6.0)\n",
            "Requirement already satisfied: six>=1.5 in /usr/local/lib/python3.10/dist-packages (from python-dateutil<3.0dev,>=2.7.2->google-cloud-bigquery) (1.16.0)\n",
            "Requirement already satisfied: charset-normalizer<4,>=2 in /usr/local/lib/python3.10/dist-packages (from requests<3.0.0dev,>=2.21.0->google-cloud-bigquery) (3.3.2)\n",
            "Requirement already satisfied: idna<4,>=2.5 in /usr/local/lib/python3.10/dist-packages (from requests<3.0.0dev,>=2.21.0->google-cloud-bigquery) (3.8)\n",
            "Requirement already satisfied: urllib3<3,>=1.21.1 in /usr/local/lib/python3.10/dist-packages (from requests<3.0.0dev,>=2.21.0->google-cloud-bigquery) (2.0.7)\n",
            "Requirement already satisfied: certifi>=2017.4.17 in /usr/local/lib/python3.10/dist-packages (from requests<3.0.0dev,>=2.21.0->google-cloud-bigquery) (2024.8.30)\n",
            "Requirement already satisfied: pyasn1<0.7.0,>=0.4.6 in /usr/local/lib/python3.10/dist-packages (from pyasn1-modules>=0.2.1->google-auth<3.0.0dev,>=2.14.1->google-cloud-bigquery) (0.6.0)\n"
          ]
        }
      ],
      "source": [
        "!pip install google-cloud-bigquery pandas openpyxl"
      ]
    },
    {
      "cell_type": "code",
      "source": [
        "import pandas as pd\n",
        "import numpy as np\n",
        "import matplotlib.pyplot as plt\n",
        "import seaborn as sns\n",
        "from scipy.stats import shapiro, normaltest, anderson, mannwhitneyu, kruskal"
      ],
      "metadata": {
        "id": "iOMgkJxl_ydk"
      },
      "execution_count": 2,
      "outputs": []
    },
    {
      "cell_type": "code",
      "source": [
        "df = pd.read_excel('/content/tabla_consolidado_e.xlsx')"
      ],
      "metadata": {
        "id": "dpVGB_N0GDgW"
      },
      "execution_count": 3,
      "outputs": []
    },
    {
      "cell_type": "code",
      "source": [
        "# Lista de las columnas que deseas ver los valores únicos\n",
        "columnas = ['categ_liveness', 'categ_dance', 'categ_valence',\n",
        "            'categ_energy', 'categ_acoustic', 'categ_instrumental', 'categ_speechen']\n",
        "\n",
        "# Mostrar los valores únicos para cada columna\n",
        "for col in columnas:\n",
        "    print(f\"Valores únicos en la columna '{col}':\")\n",
        "    print(df[col].unique())\n",
        "    print(\"\\n\")\n"
      ],
      "metadata": {
        "colab": {
          "base_uri": "https://localhost:8080/"
        },
        "id": "JVUaoxL5H1vv",
        "outputId": "4d39233f-fd7b-4dbe-e926-3ddf2471ff53"
      },
      "execution_count": 4,
      "outputs": [
        {
          "output_type": "stream",
          "name": "stdout",
          "text": [
            "Valores únicos en la columna 'categ_liveness':\n",
            "['Bajo' 'Medio' 'Alto']\n",
            "\n",
            "\n",
            "Valores únicos en la columna 'categ_dance':\n",
            "['Medio' 'Alto' 'Bajo']\n",
            "\n",
            "\n",
            "Valores únicos en la columna 'categ_valence':\n",
            "['Alto' 'Bajo' 'Medio']\n",
            "\n",
            "\n",
            "Valores únicos en la columna 'categ_energy':\n",
            "['Alto' 'Medio' 'Bajo']\n",
            "\n",
            "\n",
            "Valores únicos en la columna 'categ_acoustic':\n",
            "['Bajo' 'Medio' 'Alto']\n",
            "\n",
            "\n",
            "Valores únicos en la columna 'categ_instrumental':\n",
            "['Bajo' 'Medio' 'Alto']\n",
            "\n",
            "\n",
            "Valores únicos en la columna 'categ_speechen':\n",
            "['Bajo' 'Medio']\n",
            "\n",
            "\n"
          ]
        }
      ]
    },
    {
      "cell_type": "code",
      "source": [
        "#### PRUEBA DE SIGNIFICANCIA Mann Whitney U PARA SPEECHEN #########\n",
        "\n",
        "# Convertir 'streams_limpio' a tipo float si aún no lo es\n",
        "df['streams_limpio'] = df['streams_limpio'].astype(float)\n",
        "\n",
        "# Lista de características categorizadas en tu DataFrame\n",
        "caracteristicas = ['categ_speechen']\n",
        "\n",
        "# Lista para almacenar los resultados\n",
        "resultados = []\n",
        "\n",
        "# Iterar sobre cada característica categorizada\n",
        "for categoria in caracteristicas:\n",
        "    # Dividir los datos en grupos Medio y Bajo\n",
        "    grupo_medio = df[df[categoria] == 'Medio']['streams_limpio']\n",
        "    grupo_bajo = df[df[categoria] == 'Bajo']['streams_limpio']\n",
        "\n",
        "    # Verificar que ambos grupos no estén vacíos\n",
        "    if len(grupo_medio) > 0 and len(grupo_bajo) > 0:\n",
        "        # Realizar el test de Mann-Whitney U\n",
        "        stat, p_value = mannwhitneyu(grupo_medio, grupo_bajo)\n",
        "        resultados.append((categoria, stat, p_value))\n",
        "    else:\n",
        "        print(f\"Característica: {categoria}\")\n",
        "        print(\"  Error: Uno de los grupos está vacío. No se puede realizar el test de Mann-Whitney U.\")\n",
        "        print()\n",
        "\n",
        "# Mostrar los resultados\n",
        "for resultado in resultados:\n",
        "    categoria, stat, p_value = resultado\n",
        "    print(f\"Característica: {categoria}\")\n",
        "    print(f\"  Mann-Whitney U Statistic: {stat}\")\n",
        "    print(f\"  P-value: {p_value}\")\n",
        "    print()\n"
      ],
      "metadata": {
        "colab": {
          "base_uri": "https://localhost:8080/"
        },
        "id": "b_YEO0iyIkDb",
        "outputId": "ef88b0f3-77df-4926-d026-9e3d03b7deda"
      },
      "execution_count": 5,
      "outputs": [
        {
          "output_type": "stream",
          "name": "stdout",
          "text": [
            "Característica: categ_speechen\n",
            "  Mann-Whitney U Statistic: 16739.0\n",
            "  P-value: 0.00013070113620943416\n",
            "\n"
          ]
        }
      ]
    },
    {
      "cell_type": "code",
      "source": [
        "#### PRUEBA DE SIGNIFICANCIA kruskal PARA LAS DEMÁS CATEGORÍAS #########\n",
        "\n",
        "# Asegurarse de que la columna 'streams_limpio' sea de tipo float\n",
        "df['streams_limpio'] = df['streams_limpio'].astype(float)\n",
        "\n",
        "# Lista de características categorizadas en tu DataFrame\n",
        "caracteristicas = ['categ_dance', 'categ_valence', 'categ_energy', 'categ_acoustic', 'categ_instrumental', 'categ_liveness', ]\n",
        "\n",
        "# Lista para almacenar los resultados\n",
        "resultados = []\n",
        "\n",
        "# Iterar sobre cada característica categorizada\n",
        "for categoria in caracteristicas:\n",
        "    # Dividir los datos en grupos alto, bajo y medio\n",
        "    grupo_alto = df[df[categoria] == 'Alto']['streams_limpio']\n",
        "    grupo_bajo = df[df[categoria] == 'Bajo']['streams_limpio']\n",
        "    grupo_medio = df[df[categoria] == 'Medio']['streams_limpio']\n",
        "\n",
        "    # Verificar que todos los grupos tengan al menos dos valores únicos\n",
        "    if len(grupo_alto.unique()) > 1 and len(grupo_bajo.unique()) > 1 and len(grupo_medio.unique()) > 1:\n",
        "        # Realizar el test de Kruskal-Wallis\n",
        "        stat, p_value = kruskal(grupo_alto, grupo_bajo, grupo_medio)\n",
        "        resultados.append((categoria, stat, p_value))\n",
        "    else:\n",
        "        print(f\"Característica: {categoria}\")\n",
        "        if len(grupo_alto.unique()) <= 1:\n",
        "            print(\"  Grupo 'Alto' tiene todos sus valores iguales o está vacío.\")\n",
        "        if len(grupo_bajo.unique()) <= 1:\n",
        "            print(\"  Grupo 'Bajo' tiene todos sus valores iguales o está vacío.\")\n",
        "        if len(grupo_medio.unique()) <= 1:\n",
        "            print(\"  Grupo 'Medio' tiene todos sus valores iguales o está vacío.\")\n",
        "        print(\"  Error: Uno de los grupos no tiene suficiente variabilidad. No se puede realizar el test de Kruskal-Wallis.\")\n",
        "        print()\n",
        "\n",
        "# Mostrar los resultados\n",
        "for resultado in resultados:\n",
        "    categoria, stat, p_value = resultado\n",
        "    print(f\"Característica: {categoria}\")\n",
        "    print(f\"  Kruskal-Wallis Statistic: {stat}\")\n",
        "    print(f\"  P-value: {p_value}\")\n",
        "    print()"
      ],
      "metadata": {
        "colab": {
          "base_uri": "https://localhost:8080/"
        },
        "id": "H0MHzjwIGPTX",
        "outputId": "2927a736-85da-4193-f31a-94b6d29c48ea"
      },
      "execution_count": 6,
      "outputs": [
        {
          "output_type": "stream",
          "name": "stdout",
          "text": [
            "Característica: categ_dance\n",
            "  Kruskal-Wallis Statistic: 7.278069619740809\n",
            "  P-value: 0.026277694701134165\n",
            "\n",
            "Característica: categ_valence\n",
            "  Kruskal-Wallis Statistic: 3.219321281848967\n",
            "  P-value: 0.19995545926235309\n",
            "\n",
            "Característica: categ_energy\n",
            "  Kruskal-Wallis Statistic: 1.0625438940344998\n",
            "  P-value: 0.5878567712780687\n",
            "\n",
            "Característica: categ_acoustic\n",
            "  Kruskal-Wallis Statistic: 1.5539994606653833\n",
            "  P-value: 0.4597834182191053\n",
            "\n",
            "Característica: categ_instrumental\n",
            "  Kruskal-Wallis Statistic: 1.1012779364313994\n",
            "  P-value: 0.5765812755431621\n",
            "\n",
            "Característica: categ_liveness\n",
            "  Kruskal-Wallis Statistic: 0.30903480015345847\n",
            "  P-value: 0.8568285831292979\n",
            "\n"
          ]
        }
      ]
    }
  ]
}